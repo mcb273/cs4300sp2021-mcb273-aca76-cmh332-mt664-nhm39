{
 "cells": [
  {
   "cell_type": "code",
   "execution_count": 5,
   "id": "8620a132",
   "metadata": {},
   "outputs": [],
   "source": [
    "import csv\n",
    "import json\n",
    "from collections import defaultdict\n",
    "import matplotlib.pyplot as plt\n",
    "from nltk.tokenize import TreebankWordTokenizer"
   ]
  },
  {
   "cell_type": "code",
   "execution_count": 15,
   "id": "8d819795",
   "metadata": {},
   "outputs": [
    {
     "name": "stdout",
     "output_type": "stream",
     "text": [
      "{'row_number': '18261', 'state': 'new-hampshire', 'area_name': 'whaleback-mountain', 'reviewer_name': 'David  Cook', 'review_date': '4th February 2017', 'rating': '2', 'text': \"My dad and I visited on a whim on our way back from Montreal, coming out of Vermont. Whaleback is itty-bitty but offers a fun day of skiing and has a few trails that are surprisingly challenging (the one called YOOYM seems borderline suicidal ... we passed on it).\\n\\nI'd recommend it.\"}\n"
     ]
    }
   ],
   "source": [
    "with open(\"reviews.csv\") as csvfile:\n",
    "    with open(\"reviews.json\", \"w\") as f:\n",
    "        reader = csv.reader(csvfile)\n",
    "        data_json = {}\n",
    "        reviews = []\n",
    "        isFirstLine = True\n",
    "        last_line = None\n",
    "        for line in reader:\n",
    "            if isFirstLine:\n",
    "                isFirstLine = False\n",
    "                continue\n",
    "            row_num, state, area_name, reviewer_name = line[0], line[1], line[2], line[3]\n",
    "            review_date, rating, text = line[4], line[5], line[6]\n",
    "            review = {\n",
    "                \"row_number\":row_num,\n",
    "                \"state\":state,\n",
    "                \"area_name\":area_name,\n",
    "                \"reviewer_name\":reviewer_name,\n",
    "                \"review_date\":review_date,\n",
    "                \"rating\":rating,\n",
    "                \"text\":text\n",
    "            }\n",
    "            reviews.append(review)\n",
    "            last_line = review\n",
    "        data_json[\"reviews\"] = reviews\n",
    "        json.dump(data_json, f)\n",
    "        print(last_line)"
   ]
  },
  {
   "cell_type": "code",
   "execution_count": 3,
   "id": "fea51ffe",
   "metadata": {},
   "outputs": [],
   "source": [
    "dataset = {}\n",
    "with open(\"reviews.json\", \"r\") as f:\n",
    "    dataset = json.load(f)"
   ]
  },
  {
   "cell_type": "markdown",
   "id": "9d87ab11",
   "metadata": {},
   "source": [
    "# Data Exploration for Milestone 2"
   ]
  },
  {
   "cell_type": "code",
   "execution_count": 14,
   "id": "713de516",
   "metadata": {},
   "outputs": [],
   "source": [
    "def getStatesAreasSortedByNumReviews():\n",
    "    state_to_review_row_nums = defaultdict(list)\n",
    "    area_name_to_review_row_nums = defaultdict(list)\n",
    "    for i in range(len(dataset['reviews'])):\n",
    "        review = dataset['reviews'][i]\n",
    "        state_to_review_row_nums[review['state']].append(i)\n",
    "        area_name_to_review_row_nums[review['area_name']].append(i)\n",
    "    \n",
    "    state_names, num_reviews_by_state = [], []\n",
    "    for state_name, row_nums in state_to_review_row_nums.items():\n",
    "        state_names.append(state_name)\n",
    "        num_reviews_by_state.append(len(row_nums))\n",
    "    area_names, num_reviews_by_area = [], []\n",
    "    for area_name, row_nums in area_name_to_review_row_nums.items():\n",
    "        area_names.append(area_name)\n",
    "        num_reviews_by_area.append(len(row_nums))\n",
    "        \n",
    "    unsorted_states = [(state_names[i], num_reviews_by_state[i]) for i in range(len(state_names))]\n",
    "    unsorted_areas = [(area_names[i], num_reviews_by_area[i]) for i in range(len(area_names))]\n",
    "    sorted_states = sorted(unsorted_states, key=lambda x: x[1], reverse=True)\n",
    "    sorted_areas = sorted(unsorted_areas, key=lambda x: x[1], reverse=True)\n",
    "    \n",
    "    return sorted_states, sorted_areas"
   ]
  },
  {
   "cell_type": "code",
   "execution_count": 21,
   "id": "89e3cc62",
   "metadata": {},
   "outputs": [],
   "source": [
    "def makePlot(sorted_lst, top, byState):\n",
    "    if top:\n",
    "        plt.bar([sorted_lst[i][0] for i in range(10)], [sorted_lst[i][1] for i in range(10)])\n",
    "    else:\n",
    "        plt.bar([sorted_lst[-i][0] for i in range(1,10)], [sorted_lst[-i][1] for i in range(1,10)])\n",
    "    plt.xticks(rotation=\"vertical\")\n",
    "    xlab = \"State\" if byState else \"Ski Area\"\n",
    "    plt.xlabel(xlab)\n",
    "    plt.ylabel(\"Number of Reviews\")\n",
    "    q = \"largest\" if top else \"fewest\"\n",
    "    title = xlab + \"s with \" + q + \" number of reviews\"\n",
    "    plt.title(title)\n",
    "    return\n",
    "\n",
    "sorted_states, sorted_areas = getStatesAreasSortedByNumReviews()\n",
    "# makePlot(sorted_areas, top=False, byState=False)"
   ]
  },
  {
   "cell_type": "markdown",
   "id": "d4a0484b",
   "metadata": {},
   "source": [
    "# End milestone 2\n",
    "# Begin tokenizing dataset"
   ]
  },
  {
   "cell_type": "code",
   "execution_count": 7,
   "id": "8b84ead3",
   "metadata": {},
   "outputs": [],
   "source": [
    "tokenizer = TreebankWordTokenizer()\n",
    "def tokenize_and_write_dataset(dataset, tokenizer, file_name=\"dataset_tokenized.json\"):\n",
    "    dataset_tokenized = {}\n",
    "    for review in dataset[\"reviews\"]:\n",
    "        review_tokenized = {'state':review['state'], 'area_name':review['area_name'], 'reviewer_name':review['reviewer_name'],\n",
    "                            'review_date':review['review_date'], 'rating':review['rating']}\n",
    "        review_tokenized['tokens'] = tokenizer.tokenize(review['text'])\n",
    "        dataset_tokenized[int(review['row_number'])] = review_tokenized\n",
    "    with open(file_name, \"w\") as f:\n",
    "        json.dump(dataset_tokenized, f)\n",
    "    return"
   ]
  },
  {
   "cell_type": "code",
   "execution_count": 10,
   "id": "c70c38f7",
   "metadata": {},
   "outputs": [],
   "source": []
  },
  {
   "cell_type": "code",
   "execution_count": null,
   "id": "b262dc14",
   "metadata": {},
   "outputs": [],
   "source": []
  }
 ],
 "metadata": {
  "kernelspec": {
   "display_name": "cs4300-env",
   "language": "python",
   "name": "cs4300-env"
  },
  "language_info": {
   "codemirror_mode": {
    "name": "ipython",
    "version": 3
   },
   "file_extension": ".py",
   "mimetype": "text/x-python",
   "name": "python",
   "nbconvert_exporter": "python",
   "pygments_lexer": "ipython3",
   "version": "3.7.6"
  }
 },
 "nbformat": 4,
 "nbformat_minor": 5
}
